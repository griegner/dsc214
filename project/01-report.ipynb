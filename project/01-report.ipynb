{
 "cells": [
  {
   "cell_type": "code",
   "execution_count": 1,
   "metadata": {},
   "outputs": [],
   "source": [
    "import nb_utils\n",
    "import numpy as np\n",
    "from gtda.diagrams import NumberOfPoints, Scaler\n",
    "from gtda.homology import VietorisRipsPersistence\n",
    "from gtda.metaestimators import CollectionTransformer\n",
    "from gtda.pipeline import Pipeline\n",
    "from gtda.time_series import TakensEmbedding\n",
    "from sklearn.decomposition import PCA\n",
    "from sklearn.linear_model import LogisticRegression\n",
    "from sklearn.metrics import accuracy_score, roc_auc_score\n",
    "from sklearn.model_selection import train_test_split\n",
    "from src import acf_utils, sim\n",
    "\n",
    "\n",
    "def get_accuracy(model, X_train, X_valid, y_train, y_valid):\n",
    "    \"\"\"returns the 1) classification accuracy and 2) area under ROC\"\"\"\n",
    "    return (\n",
    "        f\"Accuracy on train: {accuracy_score(model.predict(X_train), y_train):.3f}\",\n",
    "        f\"ROC AUC on train: {roc_auc_score(y_train, model.predict_proba(X_train)[:, 1]):.3f}\",\n",
    "        f\"Accuracy on valid: {accuracy_score(model.predict(X_valid), y_valid):.3f}\",\n",
    "        f\"ROC AUC on valid: {roc_auc_score(y_valid, model.predict_proba(X_valid)[:, 1]):.3f}\",\n",
    "    )"
   ]
  },
  {
   "cell_type": "markdown",
   "metadata": {},
   "source": [
    "### $\\rho_k$: sublevel set filtration"
   ]
  },
  {
   "cell_type": "code",
   "execution_count": 2,
   "metadata": {},
   "outputs": [
    {
     "data": {
      "text/plain": [
       "('Accuracy on train: 0.823',\n",
       " 'ROC AUC on train: 0.889',\n",
       " 'Accuracy on valid: 0.841',\n",
       " 'ROC AUC on valid: 0.896')"
      ]
     },
     "execution_count": 2,
     "metadata": {},
     "output_type": "execute_result"
    }
   ],
   "source": [
    "def sim_xy(idx, n_lags, features):\n",
    "    \"\"\"returns persistence entropy from sublevel set filtration of acf\"\"\"\n",
    "    y = idx % 2\n",
    "    phis = nb_utils.gen_ar2_coeffs(oscillatory=y, phi1=\"positive\", random_seed=idx)\n",
    "    x_acf = acf_utils.ar_to_acf(phis, n_lags=n_lags)  # theoretical acf\n",
    "    x_acf_ssf = nb_utils.sublevel_set_filtration(x_acf)  # sublevel-set filtration -> PH\n",
    "    x_acf_pe = features.fit_transform(x_acf_ssf)  #\n",
    "    return x_acf_pe.squeeze(), y\n",
    "\n",
    "\n",
    "n_lags, n_repeats = 50, 5000  # simulation settings\n",
    "features = NumberOfPoints()\n",
    "model = LogisticRegression()  # classification settings\n",
    "\n",
    "Xs, ys = zip(*[(sim_xy(idx, n_lags, features)) for idx in range(n_repeats)])\n",
    "Xs, ys = np.array(Xs).reshape(-1, 1), np.array(ys)\n",
    "\n",
    "# fit classifier\n",
    "X_train, X_valid, y_train, y_valid = train_test_split(Xs, ys, test_size=0.2, random_state=0)\n",
    "model.fit(X_train, y_train)\n",
    "get_accuracy(model, X_train, X_valid, y_train, y_valid)"
   ]
  },
  {
   "cell_type": "markdown",
   "metadata": {},
   "source": [
    "### $\\rho_k$: Taken's embedding"
   ]
  },
  {
   "cell_type": "code",
   "execution_count": 3,
   "metadata": {},
   "outputs": [
    {
     "data": {
      "text/plain": [
       "('Accuracy on train: 0.881',\n",
       " 'ROC AUC on train: 0.935',\n",
       " 'Accuracy on valid: 0.860',\n",
       " 'ROC AUC on valid: 0.916')"
      ]
     },
     "execution_count": 3,
     "metadata": {},
     "output_type": "execute_result"
    }
   ],
   "source": [
    "def sim_xy(idx, n_lags):\n",
    "    \"\"\"return persistence entropy from takens embedding of acf\"\"\"\n",
    "    y = idx % 2\n",
    "    phis = nb_utils.gen_ar2_coeffs(oscillatory=y, phi1=\"positive\", random_seed=idx)\n",
    "    x_acf = acf_utils.ar_to_acf(phis, n_lags=n_lags)  # theoretical acf\n",
    "    return x_acf, y\n",
    "\n",
    "\n",
    "n_jobs = -1\n",
    "pipeline = Pipeline(\n",
    "    [\n",
    "        (\"emb\", TakensEmbedding(time_delay=1, dimension=2)),\n",
    "        (\"pca\", CollectionTransformer(PCA(n_components=2), n_jobs=n_jobs)),\n",
    "        (\"vr\", VietorisRipsPersistence(homology_dimensions=(0, 1), n_jobs=n_jobs)),\n",
    "        (\"scaler\", Scaler(metric=\"bottleneck\")),\n",
    "        (\"features\", NumberOfPoints()),\n",
    "    ]\n",
    ")\n",
    "\n",
    "\n",
    "Xs_acf, ys = zip(*[(sim_xy(idx, n_lags)) for idx in range(n_repeats)])\n",
    "Xs_acf, ys = np.array(Xs_acf), np.array(ys)\n",
    "Xs = pipeline.fit_transform(Xs_acf)\n",
    "\n",
    "# fit classifier\n",
    "X_train, X_valid, y_train, y_valid = train_test_split(Xs, ys, test_size=0.1, random_state=0)\n",
    "model.fit(X_train, y_train)\n",
    "get_accuracy(model, X_train, X_valid, y_train, y_valid)"
   ]
  },
  {
   "cell_type": "markdown",
   "metadata": {},
   "source": [
    "### $x_t$: Taken's embedding"
   ]
  },
  {
   "cell_type": "code",
   "execution_count": 4,
   "metadata": {},
   "outputs": [
    {
     "data": {
      "text/plain": [
       "('Accuracy on train: 0.628',\n",
       " 'ROC AUC on train: 0.679',\n",
       " 'Accuracy on valid: 0.630',\n",
       " 'ROC AUC on valid: 0.694')"
      ]
     },
     "execution_count": 4,
     "metadata": {},
     "output_type": "execute_result"
    }
   ],
   "source": [
    "def sim_xy(idx, n_timepoints):\n",
    "    \"\"\"return persistence entropy from takens embedding of timeseries\"\"\"\n",
    "    y = idx % 2\n",
    "    phis = nb_utils.gen_ar2_coeffs(oscillatory=y, phi1=\"postive\", random_seed=idx)\n",
    "    x = sim.sim_ar(phis, n_timepoints, random_seed=idx).squeeze()\n",
    "    return x, y\n",
    "\n",
    "\n",
    "n_timepoints = 250\n",
    "\n",
    "Xs_ts, ys = zip(*[(sim_xy(idx, n_timepoints)) for idx in range(n_repeats)])\n",
    "Xs_ts, ys = np.array(Xs_ts), np.array(ys)\n",
    "Xs = pipeline.fit_transform(Xs_ts)\n",
    "\n",
    "\n",
    "# fit classifier\n",
    "X_train, X_valid, y_train, y_valid = train_test_split(Xs, ys, test_size=0.1, random_state=0)\n",
    "model.fit(X_train, y_train)\n",
    "get_accuracy(model, X_train, X_valid, y_train, y_valid)"
   ]
  }
 ],
 "metadata": {
  "kernelspec": {
   "display_name": "dsc214",
   "language": "python",
   "name": "python3"
  },
  "language_info": {
   "codemirror_mode": {
    "name": "ipython",
    "version": 3
   },
   "file_extension": ".py",
   "mimetype": "text/x-python",
   "name": "python",
   "nbconvert_exporter": "python",
   "pygments_lexer": "ipython3",
   "version": "3.10.14"
  }
 },
 "nbformat": 4,
 "nbformat_minor": 2
}
